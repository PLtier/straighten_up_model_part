{
 "cells": [
  {
   "attachments": {},
   "cell_type": "markdown",
   "id": "b1d6baaf",
   "metadata": {},
   "source": [
    "Pamiętaj by być w odpowiednim środowisku konwertera."
   ]
  },
  {
   "cell_type": "code",
   "execution_count": 1,
   "id": "dc51a14d-f8c2-45fa-bda7-87df7d17b61a",
   "metadata": {},
   "outputs": [],
   "source": [
    "import tensorflowjs as tfjs\n",
    "from tensorflow import keras"
   ]
  },
  {
   "cell_type": "code",
   "execution_count": 3,
   "id": "19eacfe8-2ffe-4428-9abc-96c62bf04c7a",
   "metadata": {},
   "outputs": [],
   "source": [
    "source_model_path='../program_output/classification_model_tf'\n",
    "target_model_path='../program_output/classification_model_tfJS'\n",
    "\n",
    "model = keras.models.load_model(source_model_path)\n",
    "tfjs.converters.save_keras_model(model, target_model_path)"
   ]
  }
 ],
 "metadata": {
  "kernelspec": {
   "display_name": "Python 3",
   "language": "python",
   "name": "python3"
  },
  "language_info": {
   "codemirror_mode": {
    "name": "ipython",
    "version": 3
   },
   "file_extension": ".py",
   "mimetype": "text/x-python",
   "name": "python",
   "nbconvert_exporter": "python",
   "pygments_lexer": "ipython3",
   "version": "3.9.15"
  },
  "vscode": {
   "interpreter": {
    "hash": "7c7c1c3541c75252132559ab1eacc7bdc8e92ebd03d33157c00c23190e010828"
   }
  }
 },
 "nbformat": 4,
 "nbformat_minor": 5
}
