{
 "cells": [
  {
   "cell_type": "code",
   "execution_count": 1,
   "id": "dc51a14d-f8c2-45fa-bda7-87df7d17b61a",
   "metadata": {},
   "outputs": [],
   "source": [
    "import tensorflow as tf\n",
    "from tensorflow import keras\n",
    "import tensorflowjs as tfjs"
   ]
  },
  {
   "cell_type": "code",
   "execution_count": 3,
   "id": "8d91821f-58b4-4983-8ba0-6fb4d96662c9",
   "metadata": {},
   "outputs": [],
   "source": [
    "source_model_path='../full_model_python'\n",
    "target_model_path='../full_model_tfjs'"
   ]
  },
  {
   "cell_type": "code",
   "execution_count": 6,
   "id": "19eacfe8-2ffe-4428-9abc-96c62bf04c7a",
   "metadata": {},
   "outputs": [],
   "source": [
    "def mcc_metric(y_true, y_pred):\n",
    "    predicted = tf.cast(tf.greater(y_pred, threshold), tf.float32)\n",
    "    true_pos = tf.math.count_nonzero(predicted * y_true)\n",
    "    true_neg = tf.math.count_nonzero((predicted - 1) * (y_true - 1))\n",
    "    false_pos = tf.math.count_nonzero(predicted * (y_true - 1))\n",
    "    false_neg = tf.math.count_nonzero((predicted - 1) * y_true)\n",
    "    x = tf.cast((true_pos + false_pos) * (true_pos + false_neg) \n",
    "      * (true_neg + false_pos) * (true_neg + false_neg), tf.float32)\n",
    "    return tf.cast((true_pos * true_neg) - (false_pos * false_neg), tf.float32) / tf.sqrt(x)\n",
    "\n",
    "model = keras.models.load_model(source_model_path, \n",
    "                                custom_objects={\"mcc_metric\": mcc_metric})\n",
    "tfjs.converters.save_keras_model(model, target_model_path)"
   ]
  }
 ],
 "metadata": {
  "kernelspec": {
   "display_name": "Python 3 (ipykernel)",
   "language": "python",
   "name": "python3"
  },
  "language_info": {
   "codemirror_mode": {
    "name": "ipython",
    "version": 3
   },
   "file_extension": ".py",
   "mimetype": "text/x-python",
   "name": "python",
   "nbconvert_exporter": "python",
   "pygments_lexer": "ipython3",
   "version": "3.9.15"
  }
 },
 "nbformat": 4,
 "nbformat_minor": 5
}
