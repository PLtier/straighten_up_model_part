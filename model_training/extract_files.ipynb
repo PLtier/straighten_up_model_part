{
 "cells": [
  {
   "attachments": {},
   "cell_type": "markdown",
   "id": "82f6cd6a",
   "metadata": {},
   "source": [
    "Celem pliku jest umieszczenie próbek zebranych od wolontariuszy w folderze zawierającym dwa foldery, jeden na klasę. Aby program działał potrzeba struktura plików to:"
   ]
  },
  {
   "attachments": {},
   "cell_type": "markdown",
   "id": "f9981398",
   "metadata": {},
   "source": [
    "\n",
    "```bash\n",
    ".\n",
    "├── people_images/ <= starting structure\n",
    "│   ├── first_human/\n",
    "│   │   ├── krzywo.zip\n",
    "│   │   └── prosto.zip\n",
    "│   ├── second_human/\n",
    "│   │   ├── krzywo.zip\n",
    "│   │   └── prosto.zip\n",
    "│   ├── third_human/\n",
    "│   │   ├── krzywo.zip\n",
    "│   │   └── prosto.zip\n",
    "│   └── ...\n",
    "└── classifided_images/ <= desired\n",
    "    ├── neg-straight-class\n",
    "    └── pos-nonstraight-class\n",
    "```"
   ]
  },
  {
   "attachments": {},
   "cell_type": "markdown",
   "id": "23732c9f",
   "metadata": {},
   "source": [
    "Wymagania:\n",
    "1. Utworzony folder docelowy, zawierający dwa foldery, jeden na klasę. Folder z klasą \"nieprosto\" (pozytywny) ma nazwę alfabetycznie drugą. Wynika to z tego jak działa funkcja keras.utils.image_dataset_from_directory\n",
    "2. Utworzony folder źródłowy zawierający folder na osobę a w każdym z nich dwa foldery/zipy ze zdjęciami na klasę. **Kluczowe jest by każdy folder zawierający klasę pozytywną miał pewne słowo, tak samo jak każdy folder z klasą negatywną. Słowa muszą być różne.** Przykład widoczny na strukturze."
   ]
  },
  {
   "cell_type": "code",
   "execution_count": 1,
   "id": "9d768fe7-539c-49ae-b43f-335641de0fa0",
   "metadata": {},
   "outputs": [],
   "source": [
    "import os\n",
    "import shutil"
   ]
  },
  {
   "attachments": {},
   "cell_type": "markdown",
   "id": "62950a20",
   "metadata": {},
   "source": [
    "Ustawiamy:\n",
    "1. Ścieżkę folderu źródłowego\n",
    "2. Ścieżki folderów docelowych.\n",
    "3. Słowa za pomocą których rozróżnimy jedną i drugą klasę."
   ]
  },
  {
   "cell_type": "code",
   "execution_count": 3,
   "id": "96e3cade-f651-494a-a259-b594d9b828cd",
   "metadata": {
    "tags": []
   },
   "outputs": [],
   "source": [
    "samples_path = \"./people_images\" \n",
    "\n",
    "base_destination_path = \"./classified_images\"\n",
    "slouching_samples_path = os.path.join(base_destination_path, \"pos-nonstraight-class\")\n",
    "straight_samples_path = os.path.join(base_destination_path, \"neg-straight-class\")\n",
    "\n",
    "nonstraight_images_folders_contain=\"krzywo\"\n",
    "straight_images_folders_contain=\"prosto\""
   ]
  },
  {
   "attachments": {},
   "cell_type": "markdown",
   "id": "448bb9ab",
   "metadata": {},
   "source": [
    "Poniższy blok użyj wyłącznie jeśli zdjęcia są w .zip! Jeśli są już w zwykłych folderach, uruchom tylko kolejny blok.\n",
    "</br> Uwaga! **Kod domyślnie usuwa foldery zip!**"
   ]
  },
  {
   "cell_type": "code",
   "execution_count": 3,
   "id": "cd615e24-494b-44a8-a177-7f63e053b288",
   "metadata": {},
   "outputs": [],
   "source": [
    "#Here we simply unzip recursively all folders, and if opted, delete zipped ones.\n",
    "def unzip_nested_zip_dirs(dir_path, do_remove=False):\n",
    "    for file in os.scandir(dir_path):\n",
    "        if(file.is_dir()): unzip_nested_zip_dirs(file.path, True)\n",
    "        elif(file.name.endswith(\".zip\")): \n",
    "            shutil.unpack_archive(file.path, file.path.removesuffix(\".zip\"))\n",
    "            if(do_remove): os.remove(file.path)\n",
    "\n",
    "\n",
    "unzip_nested_zip_dirs(samples_path, do_remove = True)"
   ]
  },
  {
   "attachments": {},
   "cell_type": "markdown",
   "id": "a5b839ab",
   "metadata": {},
   "source": [
    "Poniższy kod przemieszcza zdjęcia do użytecznej struktury"
   ]
  },
  {
   "cell_type": "code",
   "execution_count": 8,
   "id": "acdff4c9-cea6-4fa9-96cf-30dfe760a5fe",
   "metadata": {},
   "outputs": [],
   "source": [
    "# This function is required in function definied below, in order to quickly understand skipping is recommended.\n",
    "#Images in every catalog are named as numbers. (0.jpg, 1.jpg etc.) Therefore in order to move them into\n",
    "#one common directory (have to have unique filenames), renaming is required, for example, by adding prefix.\n",
    "def move_all_files(source_folder_path, destination_folder_path, prefix):\n",
    "    new_filepath_prefix = destination_folder_path if not prefix else os.path.join(destination_folder_path, prefix)\n",
    "    for file in os.scandir(source_folder_path):\n",
    "        new_filepath = new_filepath_prefix+file.name \n",
    "        shutil.copy(file.path, new_filepath)\n",
    "        \n",
    "#Function recursively finds all images amongst directories and move them into either \"krzywo\" or \"prosto\" class folder \n",
    "#Since all folders contain either \"krzywo\" or \"prosto\" in filename by this way program distinguish proper class of images. \n",
    "def sort_people_images_out_into_two_classes(dir_path):\n",
    "    for file in os.scandir(dir_path):\n",
    "        if(file.is_dir()): \n",
    "            dir_name = file.name.lower()\n",
    "            grand_parent_dir_name = os.path.basename(os.path.dirname(file.path))\n",
    "            trait = dir_name+\"_\"+grand_parent_dir_name\n",
    "            if(nonstraight_images_folders_contain in dir_name): \n",
    "                move_all_files(file.path, slouching_samples_path, prefix=trait)\n",
    "            elif(straight_images_folders_contain in dir_name): \n",
    "                move_all_files(file.path, straight_samples_path, prefix=trait)\n",
    "            else:\n",
    "                sort_people_images_out_into_two_classes(file.path)\n",
    "\n",
    "sort_people_images_out_into_two_classes(samples_path)"
   ]
  }
 ],
 "metadata": {
  "kernelspec": {
   "display_name": "Python 3",
   "language": "python",
   "name": "python3"
  },
  "language_info": {
   "codemirror_mode": {
    "name": "ipython",
    "version": 3
   },
   "file_extension": ".py",
   "mimetype": "text/x-python",
   "name": "python",
   "nbconvert_exporter": "python",
   "pygments_lexer": "ipython3",
   "version": "3.9.15"
  },
  "vscode": {
   "interpreter": {
    "hash": "675fecd242027b04028c945ed6bf336b84b63c0d3fb3b96ac16c2bd160a786e3"
   }
  }
 },
 "nbformat": 4,
 "nbformat_minor": 5
}
